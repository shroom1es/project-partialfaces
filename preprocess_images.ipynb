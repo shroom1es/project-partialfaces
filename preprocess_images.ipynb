{
 "cells": [
  {
   "cell_type": "code",
   "execution_count": null,
   "id": "beda3a7b",
   "metadata": {},
   "outputs": [],
   "source": [
    "import cv2  \n",
    "import os  \n",
    "import numpy as np  \n",
    "from PIL import Image  \n",
    "import matplotlib.pyplot as plt  \n",
    "\n",
    "# define the paths to the input and output folders\n",
    "input_folder = \"/Users/julia/Documents/project_code/input_folder/archive/facesmin3/lfw-deepfunneled\"  # source of images\n",
    "output_folder = \"/Users/julia/Documents/project_code/output_folder\"  # destination for preprocessed images\n",
    "image_width, image_height = 224, 224  # target size for resizing the images\n",
    "\n",
    "# specify the path to the haar cascade file for face detection\n",
    "cascade_path = \"/System/Volumes/Data/opt/anaconda3/envs/myenv/share/opencv4/haarcascades/haarcascade_frontalface_default.xml\"\n",
    "facecascade = cv2.CascadeClassifier(cascade_path)  # load the face detection model\n",
    "\n",
    "# check if the cascade file was loaded successfully\n",
    "if facecascade.empty():\n",
    "    print(\"error loading cascade file. please check the path.\")\n",
    "else:\n",
    "    print(\"cascade loaded successfully.\")\n",
    "\n",
    "# iterate over all images in the input folder\n",
    "for root, _, files in os.walk(input_folder):\n",
    "    for file in files:\n",
    "        if file.endswith((\"png\", \"jpg\", \"jpeg\")):  # check for image files\n",
    "            path = os.path.join(root, file)  # get the full path to the image\n",
    "            imgtest = cv2.imread(path)  # read the image\n",
    "\n",
    "            if imgtest is None:\n",
    "                print(f\"could not read image: {path}\")  # handle unreadable images\n",
    "                continue\n",
    "\n",
    "            # detect faces in the image\n",
    "            faces = facecascade.detectMultiScale(imgtest, scaleFactor=1.1, minNeighbors=5)\n",
    "            print(f\"detected {len(faces)} face(s) in {file}.\")\n",
    "\n",
    "            for (x, y, w, h) in faces:\n",
    "                # extract and resize the detected face\n",
    "                roi = imgtest[y:y + h, x:x + w]  # region of interest (the face)\n",
    "                resized_image = cv2.resize(roi, (image_width, image_height))  # resize the face\n",
    "\n",
    "                # create the same directory structure in the output folder\n",
    "                save_dir = os.path.join(output_folder, os.path.basename(root))\n",
    "                os.makedirs(save_dir, exist_ok=True)  # create directories if they don't exist\n",
    "\n",
    "                # save the preprocessed image to the output folder\n",
    "                save_path = os.path.join(save_dir, file)\n",
    "                im = Image.fromarray(resized_image)\n",
    "                im.save(save_path)\n",
    "                print(f\"saved preprocessed image: {save_path}\")\n",
    "\n"
   ]
  },
  {
   "cell_type": "code",
   "execution_count": null,
   "id": "ca8a0d92",
   "metadata": {},
   "outputs": [],
   "source": []
  },
  {
   "cell_type": "code",
   "execution_count": 3,
   "id": "4c817dd8",
   "metadata": {},
   "outputs": [],
   "source": [
    "# data_root = Path('/Users/julia/tensorflow-env/env/train/')\n",
    "# \n",
    "# total = 0\n",
    "# for sub_dir in data_root.iterdir():\n",
    "#     try:\n",
    "#         # check if sub_dir is a directory\n",
    "#         isdir = os.path.isdir(sub_dir)\n",
    "#         count = len(list(sub_dir.iterdir()))\n",
    "#         total += count\n",
    "#         print(f'{sub_dir.name}: {count}')\n",
    "#     except Exception as e:\n",
    "#         print(f\"error processing {sub_dir}: {e}\")\n",
    "# print(f'total: {total}')\n",
    "\n"
   ]
  },
  {
   "cell_type": "code",
   "execution_count": null,
   "id": "06622322",
   "metadata": {},
   "outputs": [],
   "source": [
    "# counts images in the test folder\n",
    "from pathlib import Path\n",
    "\n",
    "data_root = Path(\"/Users/julia/Documents/project_code/input_folder/archive/facesmin3/lfw-deepfunneled\")\n",
    "\n",
    "total = 0\n",
    "for sub_dir in data_root.iterdir():\n",
    "    try:\n",
    "        # check if sub_dir is a directory\n",
    "        count = len(list(sub_dir.iterdir()))\n",
    "        total += count\n",
    "        print(f'{sub_dir.name}: {count}')\n",
    "    except Exception as e:\n",
    "        print(f\"error processing {sub_dir}: {e}\")\n",
    "print(f'total: {total}')\n"
   ]
  },
  {
   "cell_type": "code",
   "execution_count": null,
   "id": "7616857a",
   "metadata": {},
   "outputs": [],
   "source": [
    "# deletes subdirectories with fewer than 1 image\n",
    "from send2trash import send2trash\n",
    "\n",
    "data_root = Path(\"/Users/julia/Documents/project_code/input_folder/archive/facesmin3/lfw-deepfunneled\")\n",
    "\n",
    "total = 0\n",
    "for sub_dir in data_root.iterdir():\n",
    "    try:\n",
    "        # check if sub_dir is a directory\n",
    "        count = len(list(sub_dir.iterdir()))\n",
    "        total += count\n",
    "        print(f'{sub_dir.name}: {count}')\n",
    "        # if count is less than 1, delete the folder\n",
    "        if count < 1:\n",
    "            send2trash(sub_dir)\n",
    "            print(f'{sub_dir} : folder removed') \n",
    "    except Exception as e:\n",
    "        print(f\"error processing {sub_dir}: {e}\")\n",
    "print(f'total: {total}')\n"
   ]
  },
  {
   "cell_type": "markdown",
   "id": "4396b2e5",
   "metadata": {},
   "source": []
  },
  {
   "cell_type": "code",
   "execution_count": null,
   "id": "fe0d831b",
   "metadata": {},
   "outputs": [],
   "source": [
    "# counts images in the test folder \n",
    "data_root = Path(\"/Users/julia/Documents/project_code/input_folder/archive/facesmin3/lfw-deepfunneled\")\n",
    "\n",
    "total = 0  \n",
    "for sub_dir in data_root.iterdir():\n",
    "    try:\n",
    "        # check if sub_dir is a directory\n",
    "        count = len(list(sub_dir.iterdir()))\n",
    "        total += count\n",
    "        print(f'{sub_dir.name}: {count}')\n",
    "    except Exception as e:\n",
    "        print(f\"error processing {sub_dir}: {e}\")\n",
    "print(f'total: {total}')\n",
    "\n"
   ]
  },
  {
   "cell_type": "code",
   "execution_count": null,
   "id": "793083e5",
   "metadata": {},
   "outputs": [],
   "source": []
  },
  {
   "cell_type": "code",
   "execution_count": null,
   "id": "9ccd2083",
   "metadata": {},
   "outputs": [],
   "source": []
  },
  {
   "cell_type": "code",
   "execution_count": null,
   "id": "6aef9642-ddc1-42cc-8a51-cd589004884f",
   "metadata": {},
   "outputs": [],
   "source": []
  },
  {
   "cell_type": "code",
   "execution_count": null,
   "id": "ba7b6818-92a2-41b8-ad5e-aa73452ac613",
   "metadata": {},
   "outputs": [],
   "source": []
  },
  {
   "cell_type": "code",
   "execution_count": null,
   "id": "7c74d154-13ae-47d5-9306-5130d621550a",
   "metadata": {},
   "outputs": [],
   "source": []
  }
 ],
 "metadata": {
  "kernelspec": {
   "display_name": "Python 3 (ipykernel)",
   "language": "python",
   "name": "python3"
  },
  "language_info": {
   "codemirror_mode": {
    "name": "ipython",
    "version": 3
   },
   "file_extension": ".py",
   "mimetype": "text/x-python",
   "name": "python",
   "nbconvert_exporter": "python",
   "pygments_lexer": "ipython3",
   "version": "3.8.18"
  }
 },
 "nbformat": 4,
 "nbformat_minor": 5
}
