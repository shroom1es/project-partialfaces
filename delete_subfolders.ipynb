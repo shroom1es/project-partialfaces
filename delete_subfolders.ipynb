{
 "cells": [
  {
   "cell_type": "code",
   "execution_count": null,
   "id": "3f5a76f9",
   "metadata": {},
   "outputs": [],
   "source": [
    "from pathlib import Path\n",
    "from send2trash import send2trash \n",
    "import os\n",
    "\n",
    "data_root = Path(\"/Users/julia/Documents/project_code/input_folder/archive/facesmin3/lfw-deepfunneled\")  # input directory\n",
    "\n",
    "total = 0\n",
    "# iterate over subdirectories\n",
    "for sub_dir in data_root.iterdir():\n",
    "    try:\n",
    "        if sub_dir.is_dir():  # check if it's a directory\n",
    "            count = len(list(sub_dir.iterdir()))  # count images in subdirectory\n",
    "            total += count\n",
    "            print(f'{sub_dir.name}: {count} images')  # print count of images\n",
    "            if count < 3:  # if fewer than 3 images, move the folder to trash\n",
    "                send2trash(sub_dir)\n",
    "                print(f'{sub_dir} : folder removed')\n",
    "                total -= count  # adjust total image count\n",
    "    except Exception as e:\n",
    "        print(f\"Error processing {sub_dir}: {e}\")  \n",
    "print(f'Total images across all folders: {total}')  # print total images\n"
   ]
  },
  {
   "cell_type": "code",
   "execution_count": null,
   "id": "2379ff07",
   "metadata": {},
   "outputs": [],
   "source": []
  },
  {
   "cell_type": "code",
   "execution_count": null,
   "id": "79d51e5f",
   "metadata": {},
   "outputs": [],
   "source": []
  }
 ],
 "metadata": {
  "kernelspec": {
   "display_name": "Python 3 (ipykernel)",
   "language": "python",
   "name": "python3"
  },
  "language_info": {
   "codemirror_mode": {
    "name": "ipython",
    "version": 3
   },
   "file_extension": ".py",
   "mimetype": "text/x-python",
   "name": "python",
   "nbconvert_exporter": "python",
   "pygments_lexer": "ipython3",
   "version": "3.8.18"
  }
 },
 "nbformat": 4,
 "nbformat_minor": 5
}
